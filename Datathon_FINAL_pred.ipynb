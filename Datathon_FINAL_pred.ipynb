{
 "cells": [
  {
   "cell_type": "code",
   "execution_count": 1,
   "metadata": {
    "id": "7SvLjo1LV2gQ"
   },
   "outputs": [],
   "source": [
    "import pandas as pd\n",
    "import numpy as np\n",
    "import matplotlib.pyplot as plt\n",
    "import seaborn as sns\n",
    "\n",
    "import warnings\n",
    "\n",
    "warnings.filterwarnings(\"ignore\")"
   ]
  },
  {
   "cell_type": "code",
   "execution_count": 33,
   "metadata": {},
   "outputs": [],
   "source": [
    "covid_case = pd.read_csv(\"casos_hosp_uci_def_sexo_edad_provres.csv\", keep_default_na=False)"
   ]
  },
  {
   "cell_type": "code",
   "execution_count": 34,
   "metadata": {},
   "outputs": [],
   "source": [
    "covid_case.loc[covid_case[\"grupo_edad\"]==\"Oct-19\", \"grupo_edad\"] = \"10-19\""
   ]
  },
  {
   "cell_type": "code",
   "execution_count": 35,
   "metadata": {
    "colab": {
     "base_uri": "https://localhost:8080/",
     "height": 514
    },
    "id": "36x4sUeLqV1n",
    "outputId": "ed5d46c1-9acd-403b-e242-3a38793eae92"
   },
   "outputs": [
    {
     "data": {
      "text/html": [
       "<div>\n",
       "<style scoped>\n",
       "    .dataframe tbody tr th:only-of-type {\n",
       "        vertical-align: middle;\n",
       "    }\n",
       "\n",
       "    .dataframe tbody tr th {\n",
       "        vertical-align: top;\n",
       "    }\n",
       "\n",
       "    .dataframe thead th {\n",
       "        text-align: right;\n",
       "    }\n",
       "</style>\n",
       "<table border=\"1\" class=\"dataframe\">\n",
       "  <thead>\n",
       "    <tr style=\"text-align: right;\">\n",
       "      <th></th>\n",
       "      <th>provincia_iso</th>\n",
       "      <th>sexo</th>\n",
       "      <th>grupo_edad</th>\n",
       "      <th>fecha</th>\n",
       "      <th>num_casos</th>\n",
       "      <th>num_hosp</th>\n",
       "      <th>num_uci</th>\n",
       "      <th>num_def</th>\n",
       "    </tr>\n",
       "  </thead>\n",
       "  <tbody>\n",
       "    <tr>\n",
       "      <th>0</th>\n",
       "      <td>A</td>\n",
       "      <td>H</td>\n",
       "      <td>0-9</td>\n",
       "      <td>2020-01-01</td>\n",
       "      <td>0</td>\n",
       "      <td>0</td>\n",
       "      <td>0</td>\n",
       "      <td>0</td>\n",
       "    </tr>\n",
       "    <tr>\n",
       "      <th>1</th>\n",
       "      <td>A</td>\n",
       "      <td>H</td>\n",
       "      <td>10-19</td>\n",
       "      <td>2020-01-01</td>\n",
       "      <td>0</td>\n",
       "      <td>0</td>\n",
       "      <td>0</td>\n",
       "      <td>0</td>\n",
       "    </tr>\n",
       "    <tr>\n",
       "      <th>2</th>\n",
       "      <td>A</td>\n",
       "      <td>H</td>\n",
       "      <td>20-29</td>\n",
       "      <td>2020-01-01</td>\n",
       "      <td>0</td>\n",
       "      <td>0</td>\n",
       "      <td>0</td>\n",
       "      <td>0</td>\n",
       "    </tr>\n",
       "    <tr>\n",
       "      <th>3</th>\n",
       "      <td>A</td>\n",
       "      <td>H</td>\n",
       "      <td>30-39</td>\n",
       "      <td>2020-01-01</td>\n",
       "      <td>0</td>\n",
       "      <td>0</td>\n",
       "      <td>0</td>\n",
       "      <td>0</td>\n",
       "    </tr>\n",
       "    <tr>\n",
       "      <th>4</th>\n",
       "      <td>A</td>\n",
       "      <td>H</td>\n",
       "      <td>40-49</td>\n",
       "      <td>2020-01-01</td>\n",
       "      <td>0</td>\n",
       "      <td>0</td>\n",
       "      <td>0</td>\n",
       "      <td>0</td>\n",
       "    </tr>\n",
       "  </tbody>\n",
       "</table>\n",
       "</div>"
      ],
      "text/plain": [
       "  provincia_iso sexo grupo_edad       fecha  num_casos  num_hosp  num_uci  \\\n",
       "0             A    H        0-9  2020-01-01          0         0        0   \n",
       "1             A    H      10-19  2020-01-01          0         0        0   \n",
       "2             A    H      20-29  2020-01-01          0         0        0   \n",
       "3             A    H      30-39  2020-01-01          0         0        0   \n",
       "4             A    H      40-49  2020-01-01          0         0        0   \n",
       "\n",
       "   num_def  \n",
       "0        0  \n",
       "1        0  \n",
       "2        0  \n",
       "3        0  \n",
       "4        0  "
      ]
     },
     "execution_count": 35,
     "metadata": {},
     "output_type": "execute_result"
    }
   ],
   "source": [
    "covid_case.head()"
   ]
  },
  {
   "cell_type": "code",
   "execution_count": 36,
   "metadata": {
    "colab": {
     "base_uri": "https://localhost:8080/"
    },
    "id": "XYw5bV_2NnE5",
    "outputId": "1ae34a91-a501-4d8d-b17f-abe4cbae86ed"
   },
   "outputs": [
    {
     "name": "stdout",
     "output_type": "stream",
     "text": [
      "<class 'pandas.core.frame.DataFrame'>\n",
      "RangeIndex: 847470 entries, 0 to 847469\n",
      "Data columns (total 8 columns):\n",
      " #   Column         Non-Null Count   Dtype \n",
      "---  ------         --------------   ----- \n",
      " 0   provincia_iso  847470 non-null  object\n",
      " 1   sexo           847470 non-null  object\n",
      " 2   grupo_edad     847470 non-null  object\n",
      " 3   fecha          847470 non-null  object\n",
      " 4   num_casos      847470 non-null  int64 \n",
      " 5   num_hosp       847470 non-null  int64 \n",
      " 6   num_uci        847470 non-null  int64 \n",
      " 7   num_def        847470 non-null  int64 \n",
      "dtypes: int64(4), object(4)\n",
      "memory usage: 51.7+ MB\n"
     ]
    }
   ],
   "source": [
    "covid_case.info()"
   ]
  },
  {
   "cell_type": "markdown",
   "metadata": {
    "id": "U94hJdAIXF4A"
   },
   "source": [
    "From the overview of the dataset, it seems we don't have any missing data."
   ]
  },
  {
   "cell_type": "code",
   "execution_count": 37,
   "metadata": {
    "colab": {
     "base_uri": "https://localhost:8080/"
    },
    "id": "SOaNSTwzXkUY",
    "outputId": "d361c242-215d-40c7-a016-829454808502"
   },
   "outputs": [
    {
     "name": "stdout",
     "output_type": "stream",
     "text": [
      "We have 53 unique regional data\n"
     ]
    }
   ],
   "source": [
    "print(\"We have {} unique regional data\".format(covid_case[\"provincia_iso\"].nunique()))"
   ]
  },
  {
   "cell_type": "markdown",
   "metadata": {
    "id": "r6x4xYajXwHO"
   },
   "source": [
    "First let's change the date variable into appropriate **DATE** format and set it as index."
   ]
  },
  {
   "cell_type": "code",
   "execution_count": 38,
   "metadata": {
    "colab": {
     "base_uri": "https://localhost:8080/",
     "height": 664
    },
    "id": "-Wuy443-Nzg5",
    "outputId": "2461db75-d686-4e22-a06d-69a44020fbad"
   },
   "outputs": [],
   "source": [
    "covid_case[\"fecha\"] = pd.to_datetime(covid_case[\"fecha\"], infer_datetime_format=True)\n",
    "covid_case.set_index(\"fecha\", inplace=True)"
   ]
  },
  {
   "cell_type": "code",
   "execution_count": 39,
   "metadata": {
    "id": "o9jRvjSfqeR-"
   },
   "outputs": [
    {
     "name": "stdout",
     "output_type": "stream",
     "text": [
      "Our dataset time rage is displayed below.\n",
      "2020-01-01 00:00:00\n",
      "2021-06-16 00:00:00\n"
     ]
    }
   ],
   "source": [
    "print(\"Our dataset time rage is displayed below.\")\n",
    "print(min(covid_case.index))\n",
    "print(max(covid_case.index))"
   ]
  },
  {
   "cell_type": "markdown",
   "metadata": {
    "id": "7iOW5vENYDyH"
   },
   "source": [
    "# Explanatory Prediction\n",
    "\n",
    "Now before we go to the prediction, let's see the distribution of our candidate target variables."
   ]
  },
  {
   "cell_type": "code",
   "execution_count": 40,
   "metadata": {
    "id": "bXIAokUzTse5"
   },
   "outputs": [
    {
     "data": {
      "text/plain": [
       "<AxesSubplot:xlabel='fecha'>"
      ]
     },
     "execution_count": 40,
     "metadata": {},
     "output_type": "execute_result"
    },
    {
     "data": {
      "image/png": "[encoded data removed]",
      "text/plain": [
       "<Figure size 432x288 with 1 Axes>"
      ]
     },
     "metadata": {
      "needs_background": "light"
     },
     "output_type": "display_data"
    }
   ],
   "source": [
    "covid_case[\"num_casos\"].plot()"
   ]
  },
  {
   "cell_type": "code",
   "execution_count": 41,
   "metadata": {
    "id": "Bx1PWTM6ypxp"
   },
   "outputs": [
    {
     "data": {
      "text/plain": [
       "<AxesSubplot:xlabel='fecha'>"
      ]
     },
     "execution_count": 41,
     "metadata": {},
     "output_type": "execute_result"
    },
    {
     "data": {
      "image/png": "[encoded data removed]",
      "text/plain": [
       "<Figure size 432x288 with 1 Axes>"
      ]
     },
     "metadata": {
      "needs_background": "light"
     },
     "output_type": "display_data"
    }
   ],
   "source": [
    "covid_case[\"num_hosp\"].plot()"
   ]
  },
  {
   "cell_type": "code",
   "execution_count": 42,
   "metadata": {
    "id": "ZfboFa09uxyk"
   },
   "outputs": [
    {
     "data": {
      "text/plain": [
       "<AxesSubplot:xlabel='fecha'>"
      ]
     },
     "execution_count": 42,
     "metadata": {},
     "output_type": "execute_result"
    },
    {
     "data": {
      "image/png": "[encoded data removed]",
      "text/plain": [
       "<Figure size 432x288 with 1 Axes>"
      ]
     },
     "metadata": {
      "needs_background": "light"
     },
     "output_type": "display_data"
    }
   ],
   "source": [
    "covid_case[\"num_uci\"].plot()"
   ]
  },
  {
   "cell_type": "markdown",
   "metadata": {
    "id": "R1JHGYPKY3t2"
   },
   "source": [
    "## Analysis - National Level"
   ]
  },
  {
   "cell_type": "code",
   "execution_count": 44,
   "metadata": {
    "id": "_z7-oW_JY8yK"
   },
   "outputs": [],
   "source": [
    "national_data = covid_case.groupby([\"fecha\", \"sexo\", \"grupo_edad\"]).sum()"
   ]
  },
  {
   "cell_type": "code",
   "execution_count": 45,
   "metadata": {
    "id": "7A50lGUrZPSi"
   },
   "outputs": [
    {
     "data": {
      "text/html": [
       "<div>\n",
       "<style scoped>\n",
       "    .dataframe tbody tr th:only-of-type {\n",
       "        vertical-align: middle;\n",
       "    }\n",
       "\n",
       "    .dataframe tbody tr th {\n",
       "        vertical-align: top;\n",
       "    }\n",
       "\n",
       "    .dataframe thead th {\n",
       "        text-align: right;\n",
       "    }\n",
       "</style>\n",
       "<table border=\"1\" class=\"dataframe\">\n",
       "  <thead>\n",
       "    <tr style=\"text-align: right;\">\n",
       "      <th></th>\n",
       "      <th></th>\n",
       "      <th></th>\n",
       "      <th>num_casos</th>\n",
       "      <th>num_hosp</th>\n",
       "      <th>num_uci</th>\n",
       "      <th>num_def</th>\n",
       "    </tr>\n",
       "    <tr>\n",
       "      <th>fecha</th>\n",
       "      <th>sexo</th>\n",
       "      <th>grupo_edad</th>\n",
       "      <th></th>\n",
       "      <th></th>\n",
       "      <th></th>\n",
       "      <th></th>\n",
       "    </tr>\n",
       "  </thead>\n",
       "  <tbody>\n",
       "    <tr>\n",
       "      <th rowspan=\"5\" valign=\"top\">2020-01-01</th>\n",
       "      <th rowspan=\"5\" valign=\"top\">H</th>\n",
       "      <th>0-9</th>\n",
       "      <td>0</td>\n",
       "      <td>0</td>\n",
       "      <td>0</td>\n",
       "      <td>0</td>\n",
       "    </tr>\n",
       "    <tr>\n",
       "      <th>10-19</th>\n",
       "      <td>0</td>\n",
       "      <td>0</td>\n",
       "      <td>0</td>\n",
       "      <td>0</td>\n",
       "    </tr>\n",
       "    <tr>\n",
       "      <th>20-29</th>\n",
       "      <td>0</td>\n",
       "      <td>0</td>\n",
       "      <td>0</td>\n",
       "      <td>0</td>\n",
       "    </tr>\n",
       "    <tr>\n",
       "      <th>30-39</th>\n",
       "      <td>0</td>\n",
       "      <td>0</td>\n",
       "      <td>0</td>\n",
       "      <td>0</td>\n",
       "    </tr>\n",
       "    <tr>\n",
       "      <th>40-49</th>\n",
       "      <td>0</td>\n",
       "      <td>0</td>\n",
       "      <td>0</td>\n",
       "      <td>0</td>\n",
       "    </tr>\n",
       "    <tr>\n",
       "      <th>...</th>\n",
       "      <th>...</th>\n",
       "      <th>...</th>\n",
       "      <td>...</td>\n",
       "      <td>...</td>\n",
       "      <td>...</td>\n",
       "      <td>...</td>\n",
       "    </tr>\n",
       "    <tr>\n",
       "      <th rowspan=\"5\" valign=\"top\">2021-06-16</th>\n",
       "      <th rowspan=\"5\" valign=\"top\">NC</th>\n",
       "      <th>50-59</th>\n",
       "      <td>0</td>\n",
       "      <td>0</td>\n",
       "      <td>0</td>\n",
       "      <td>0</td>\n",
       "    </tr>\n",
       "    <tr>\n",
       "      <th>60-69</th>\n",
       "      <td>0</td>\n",
       "      <td>0</td>\n",
       "      <td>0</td>\n",
       "      <td>0</td>\n",
       "    </tr>\n",
       "    <tr>\n",
       "      <th>70-79</th>\n",
       "      <td>0</td>\n",
       "      <td>0</td>\n",
       "      <td>0</td>\n",
       "      <td>0</td>\n",
       "    </tr>\n",
       "    <tr>\n",
       "      <th>80+</th>\n",
       "      <td>0</td>\n",
       "      <td>0</td>\n",
       "      <td>0</td>\n",
       "      <td>0</td>\n",
       "    </tr>\n",
       "    <tr>\n",
       "      <th>NC</th>\n",
       "      <td>0</td>\n",
       "      <td>0</td>\n",
       "      <td>0</td>\n",
       "      <td>0</td>\n",
       "    </tr>\n",
       "  </tbody>\n",
       "</table>\n",
       "<p>15990 rows × 4 columns</p>\n",
       "</div>"
      ],
      "text/plain": [
       "                            num_casos  num_hosp  num_uci  num_def\n",
       "fecha      sexo grupo_edad                                       \n",
       "2020-01-01 H    0-9                 0         0        0        0\n",
       "                10-19               0         0        0        0\n",
       "                20-29               0         0        0        0\n",
       "                30-39               0         0        0        0\n",
       "                40-49               0         0        0        0\n",
       "...                               ...       ...      ...      ...\n",
       "2021-06-16 NC   50-59               0         0        0        0\n",
       "                60-69               0         0        0        0\n",
       "                70-79               0         0        0        0\n",
       "                80+                 0         0        0        0\n",
       "                NC                  0         0        0        0\n",
       "\n",
       "[15990 rows x 4 columns]"
      ]
     },
     "execution_count": 45,
     "metadata": {},
     "output_type": "execute_result"
    }
   ],
   "source": [
    "national_data"
   ]
  },
  {
   "cell_type": "code",
   "execution_count": 46,
   "metadata": {
    "id": "6P1JeYRoc6MS"
   },
   "outputs": [],
   "source": [
    "national_data[\"sexo\"] = national_data.index.get_level_values(1)\n",
    "national_data[\"grupo_edad\"] = national_data.index.get_level_values(2)\n",
    "national_data = national_data.droplevel([\"sexo\", \"grupo_edad\"])"
   ]
  },
  {
   "cell_type": "code",
   "execution_count": 47,
   "metadata": {
    "id": "Hn-ap5kCep65"
   },
   "outputs": [
    {
     "data": {
      "text/html": [
       "<div>\n",
       "<style scoped>\n",
       "    .dataframe tbody tr th:only-of-type {\n",
       "        vertical-align: middle;\n",
       "    }\n",
       "\n",
       "    .dataframe tbody tr th {\n",
       "        vertical-align: top;\n",
       "    }\n",
       "\n",
       "    .dataframe thead th {\n",
       "        text-align: right;\n",
       "    }\n",
       "</style>\n",
       "<table border=\"1\" class=\"dataframe\">\n",
       "  <thead>\n",
       "    <tr style=\"text-align: right;\">\n",
       "      <th></th>\n",
       "      <th>num_casos</th>\n",
       "      <th>num_hosp</th>\n",
       "      <th>num_uci</th>\n",
       "      <th>num_def</th>\n",
       "      <th>sexo</th>\n",
       "      <th>grupo_edad</th>\n",
       "    </tr>\n",
       "    <tr>\n",
       "      <th>fecha</th>\n",
       "      <th></th>\n",
       "      <th></th>\n",
       "      <th></th>\n",
       "      <th></th>\n",
       "      <th></th>\n",
       "      <th></th>\n",
       "    </tr>\n",
       "  </thead>\n",
       "  <tbody>\n",
       "    <tr>\n",
       "      <th>2020-01-01</th>\n",
       "      <td>0</td>\n",
       "      <td>0</td>\n",
       "      <td>0</td>\n",
       "      <td>0</td>\n",
       "      <td>H</td>\n",
       "      <td>0-9</td>\n",
       "    </tr>\n",
       "    <tr>\n",
       "      <th>2020-01-01</th>\n",
       "      <td>0</td>\n",
       "      <td>0</td>\n",
       "      <td>0</td>\n",
       "      <td>0</td>\n",
       "      <td>H</td>\n",
       "      <td>10-19</td>\n",
       "    </tr>\n",
       "    <tr>\n",
       "      <th>2020-01-01</th>\n",
       "      <td>0</td>\n",
       "      <td>0</td>\n",
       "      <td>0</td>\n",
       "      <td>0</td>\n",
       "      <td>H</td>\n",
       "      <td>20-29</td>\n",
       "    </tr>\n",
       "    <tr>\n",
       "      <th>2020-01-01</th>\n",
       "      <td>0</td>\n",
       "      <td>0</td>\n",
       "      <td>0</td>\n",
       "      <td>0</td>\n",
       "      <td>H</td>\n",
       "      <td>30-39</td>\n",
       "    </tr>\n",
       "    <tr>\n",
       "      <th>2020-01-01</th>\n",
       "      <td>0</td>\n",
       "      <td>0</td>\n",
       "      <td>0</td>\n",
       "      <td>0</td>\n",
       "      <td>H</td>\n",
       "      <td>40-49</td>\n",
       "    </tr>\n",
       "  </tbody>\n",
       "</table>\n",
       "</div>"
      ],
      "text/plain": [
       "            num_casos  num_hosp  num_uci  num_def sexo grupo_edad\n",
       "fecha                                                            \n",
       "2020-01-01          0         0        0        0    H        0-9\n",
       "2020-01-01          0         0        0        0    H      10-19\n",
       "2020-01-01          0         0        0        0    H      20-29\n",
       "2020-01-01          0         0        0        0    H      30-39\n",
       "2020-01-01          0         0        0        0    H      40-49"
      ]
     },
     "execution_count": 47,
     "metadata": {},
     "output_type": "execute_result"
    }
   ],
   "source": [
    "national_data.head()"
   ]
  },
  {
   "cell_type": "code",
   "execution_count": 48,
   "metadata": {
    "id": "cCmKZZHmkuUX"
   },
   "outputs": [
    {
     "data": {
      "text/html": [
       "<div>\n",
       "<style scoped>\n",
       "    .dataframe tbody tr th:only-of-type {\n",
       "        vertical-align: middle;\n",
       "    }\n",
       "\n",
       "    .dataframe tbody tr th {\n",
       "        vertical-align: top;\n",
       "    }\n",
       "\n",
       "    .dataframe thead th {\n",
       "        text-align: right;\n",
       "    }\n",
       "</style>\n",
       "<table border=\"1\" class=\"dataframe\">\n",
       "  <thead>\n",
       "    <tr style=\"text-align: right;\">\n",
       "      <th></th>\n",
       "      <th>num_casos</th>\n",
       "      <th>num_hosp</th>\n",
       "      <th>num_uci</th>\n",
       "      <th>num_def</th>\n",
       "      <th>sexo</th>\n",
       "      <th>grupo_edad</th>\n",
       "    </tr>\n",
       "    <tr>\n",
       "      <th>fecha</th>\n",
       "      <th></th>\n",
       "      <th></th>\n",
       "      <th></th>\n",
       "      <th></th>\n",
       "      <th></th>\n",
       "      <th></th>\n",
       "    </tr>\n",
       "  </thead>\n",
       "  <tbody>\n",
       "    <tr>\n",
       "      <th>2020-01-01</th>\n",
       "      <td>0</td>\n",
       "      <td>1</td>\n",
       "      <td>0</td>\n",
       "      <td>0</td>\n",
       "      <td>H</td>\n",
       "      <td>70-79</td>\n",
       "    </tr>\n",
       "    <tr>\n",
       "      <th>2020-01-01</th>\n",
       "      <td>0</td>\n",
       "      <td>2</td>\n",
       "      <td>0</td>\n",
       "      <td>0</td>\n",
       "      <td>H</td>\n",
       "      <td>80+</td>\n",
       "    </tr>\n",
       "  </tbody>\n",
       "</table>\n",
       "</div>"
      ],
      "text/plain": [
       "            num_casos  num_hosp  num_uci  num_def sexo grupo_edad\n",
       "fecha                                                            \n",
       "2020-01-01          0         1        0        0    H      70-79\n",
       "2020-01-01          0         2        0        0    H        80+"
      ]
     },
     "execution_count": 48,
     "metadata": {},
     "output_type": "execute_result"
    }
   ],
   "source": [
    "national_data.iloc[7:9]"
   ]
  },
  {
   "cell_type": "markdown",
   "metadata": {
    "id": "UbCiSObPfpXy"
   },
   "source": [
    "OK now that we got data at a national level, we need to pick our target variable. Looking at the dataset, we fill hospitalization, ICU or deaths wouldn't really explain the epidemic dynamics because flagging the case first comes before any of the others in the evolution. But in order to make the cases as target and more explanatory, we should make it in a way that it must contain information included in **hospitalization, ICU and death**. For this to work, we came up with an idea that **number of cases is the sum of hospitalization and ICU minus number of deaths.**\n",
    "\n",
    "  $Total No. of Cases = (No. of cases + No. of Hospitalization + No. of ICU) - No. of Death$"
   ]
  },
  {
   "cell_type": "markdown",
   "metadata": {
    "id": "uuKgG6NEk4Q9"
   },
   "source": [
    "On top of this we should Label encode **Sex** and **Age range**."
   ]
  },
  {
   "cell_type": "code",
   "execution_count": 49,
   "metadata": {
    "id": "fBuy6LrvlgkN"
   },
   "outputs": [],
   "source": [
    "from sklearn.preprocessing import LabelEncoder"
   ]
  },
  {
   "cell_type": "code",
   "execution_count": 50,
   "metadata": {
    "id": "l5vpun4clrUr"
   },
   "outputs": [],
   "source": [
    "# label encode sex and age range.\n",
    "label_encoder = LabelEncoder()\n",
    "\n",
    "national_data[\"sexo\"] = label_encoder.fit_transform(national_data[\"sexo\"])\n",
    "national_data[\"grupo_edad\"] = label_encoder.fit_transform(national_data[\"grupo_edad\"])"
   ]
  },
  {
   "cell_type": "code",
   "execution_count": 51,
   "metadata": {
    "id": "b_eg1AemmP1r"
   },
   "outputs": [],
   "source": [
    "# get valid number of cases.\n",
    "def num_of_cases(case, hosp, icu, death):\n",
    "  cases = case + hosp + icu - death\n",
    "  return cases"
   ]
  },
  {
   "cell_type": "code",
   "execution_count": 52,
   "metadata": {
    "id": "r2o9-A7Ac2wu"
   },
   "outputs": [],
   "source": [
    "national_data[\"num_casos\"] = national_data.apply(lambda dataset: num_of_cases(national_data.num_casos,\n",
    "                                                                              national_data.num_hosp, \n",
    "                                                                              national_data.num_uci, \n",
    "                                                                              national_data.num_def))"
   ]
  },
  {
   "cell_type": "code",
   "execution_count": 53,
   "metadata": {
    "id": "kcRpxR9PttT6"
   },
   "outputs": [
    {
     "data": {
      "text/html": [
       "<div>\n",
       "<style scoped>\n",
       "    .dataframe tbody tr th:only-of-type {\n",
       "        vertical-align: middle;\n",
       "    }\n",
       "\n",
       "    .dataframe tbody tr th {\n",
       "        vertical-align: top;\n",
       "    }\n",
       "\n",
       "    .dataframe thead th {\n",
       "        text-align: right;\n",
       "    }\n",
       "</style>\n",
       "<table border=\"1\" class=\"dataframe\">\n",
       "  <thead>\n",
       "    <tr style=\"text-align: right;\">\n",
       "      <th></th>\n",
       "      <th>num_casos</th>\n",
       "      <th>num_hosp</th>\n",
       "      <th>num_uci</th>\n",
       "      <th>num_def</th>\n",
       "      <th>sexo</th>\n",
       "      <th>grupo_edad</th>\n",
       "    </tr>\n",
       "    <tr>\n",
       "      <th>fecha</th>\n",
       "      <th></th>\n",
       "      <th></th>\n",
       "      <th></th>\n",
       "      <th></th>\n",
       "      <th></th>\n",
       "      <th></th>\n",
       "    </tr>\n",
       "  </thead>\n",
       "  <tbody>\n",
       "    <tr>\n",
       "      <th>2020-01-01</th>\n",
       "      <td>1</td>\n",
       "      <td>1</td>\n",
       "      <td>0</td>\n",
       "      <td>0</td>\n",
       "      <td>0</td>\n",
       "      <td>7</td>\n",
       "    </tr>\n",
       "    <tr>\n",
       "      <th>2020-01-01</th>\n",
       "      <td>2</td>\n",
       "      <td>2</td>\n",
       "      <td>0</td>\n",
       "      <td>0</td>\n",
       "      <td>0</td>\n",
       "      <td>8</td>\n",
       "    </tr>\n",
       "  </tbody>\n",
       "</table>\n",
       "</div>"
      ],
      "text/plain": [
       "            num_casos  num_hosp  num_uci  num_def  sexo  grupo_edad\n",
       "fecha                                                              \n",
       "2020-01-01          1         1        0        0     0           7\n",
       "2020-01-01          2         2        0        0     0           8"
      ]
     },
     "execution_count": 53,
     "metadata": {},
     "output_type": "execute_result"
    }
   ],
   "source": [
    "national_data.iloc[7:9]"
   ]
  },
  {
   "cell_type": "markdown",
   "metadata": {
    "id": "eif1IAXOubw8"
   },
   "source": [
    "Now that we have got what we needed, lets select a subset of certain data."
   ]
  },
  {
   "cell_type": "code",
   "execution_count": 54,
   "metadata": {
    "id": "g-a_Ue4SYhot"
   },
   "outputs": [],
   "source": [
    "data_2021 = national_data[national_data.index >= pd.to_datetime(\"2021-01-01\")].drop([\"num_hosp\", \"num_uci\", \"num_def\"], axis=1)"
   ]
  },
  {
   "cell_type": "markdown",
   "metadata": {
    "id": "byjs7eIVA26j"
   },
   "source": [
    "In order to get the prevalence, we went ahead and got the population size in Spain for year 2021. Link can be found [here](https://www.macrotrends.net/countries/ESP/spain/population#:~:text=The%20current%20population%20of%20Spain,a%200.09%25%20increase%20from%202018.)\n"
   ]
  },
  {
   "cell_type": "code",
   "execution_count": 55,
   "metadata": {
    "id": "P7bDMzkoBEfu"
   },
   "outputs": [],
   "source": [
    "population = 46_745_216\n",
    "\n",
    "data_2021[\"num_casos_per_pop\"] = data_2021[\"num_casos\"].apply(lambda x: (x * 100_000)/population)\n",
    "data_2021.drop(\"num_casos\", axis=1, inplace=True)"
   ]
  },
  {
   "cell_type": "code",
   "execution_count": 56,
   "metadata": {
    "id": "amwGKksWYyDa"
   },
   "outputs": [
    {
     "data": {
      "text/html": [
       "<div>\n",
       "<style scoped>\n",
       "    .dataframe tbody tr th:only-of-type {\n",
       "        vertical-align: middle;\n",
       "    }\n",
       "\n",
       "    .dataframe tbody tr th {\n",
       "        vertical-align: top;\n",
       "    }\n",
       "\n",
       "    .dataframe thead th {\n",
       "        text-align: right;\n",
       "    }\n",
       "</style>\n",
       "<table border=\"1\" class=\"dataframe\">\n",
       "  <thead>\n",
       "    <tr style=\"text-align: right;\">\n",
       "      <th></th>\n",
       "      <th>sexo</th>\n",
       "      <th>grupo_edad</th>\n",
       "      <th>num_casos_per_pop</th>\n",
       "    </tr>\n",
       "    <tr>\n",
       "      <th>fecha</th>\n",
       "      <th></th>\n",
       "      <th></th>\n",
       "      <th></th>\n",
       "    </tr>\n",
       "  </thead>\n",
       "  <tbody>\n",
       "    <tr>\n",
       "      <th>2021-01-01</th>\n",
       "      <td>0</td>\n",
       "      <td>0</td>\n",
       "      <td>0.492029</td>\n",
       "    </tr>\n",
       "    <tr>\n",
       "      <th>2021-01-01</th>\n",
       "      <td>0</td>\n",
       "      <td>1</td>\n",
       "      <td>0.735904</td>\n",
       "    </tr>\n",
       "    <tr>\n",
       "      <th>2021-01-01</th>\n",
       "      <td>0</td>\n",
       "      <td>2</td>\n",
       "      <td>1.178730</td>\n",
       "    </tr>\n",
       "    <tr>\n",
       "      <th>2021-01-01</th>\n",
       "      <td>0</td>\n",
       "      <td>3</td>\n",
       "      <td>1.125249</td>\n",
       "    </tr>\n",
       "    <tr>\n",
       "      <th>2021-01-01</th>\n",
       "      <td>0</td>\n",
       "      <td>4</td>\n",
       "      <td>1.416188</td>\n",
       "    </tr>\n",
       "  </tbody>\n",
       "</table>\n",
       "</div>"
      ],
      "text/plain": [
       "            sexo  grupo_edad  num_casos_per_pop\n",
       "fecha                                          \n",
       "2021-01-01     0           0           0.492029\n",
       "2021-01-01     0           1           0.735904\n",
       "2021-01-01     0           2           1.178730\n",
       "2021-01-01     0           3           1.125249\n",
       "2021-01-01     0           4           1.416188"
      ]
     },
     "execution_count": 56,
     "metadata": {},
     "output_type": "execute_result"
    }
   ],
   "source": [
    "data_2021.head()"
   ]
  },
  {
   "cell_type": "code",
   "execution_count": 57,
   "metadata": {
    "id": "A3TT7572R32g"
   },
   "outputs": [],
   "source": [
    "# Adding the lag of the target variable from 7 steps back up to 30 days\n",
    "for i in range(28, 45):\n",
    "    data_2021[\"lag_{}\".format(i)] = data_2021.num_casos_per_pop.shift(i)"
   ]
  },
  {
   "cell_type": "code",
   "execution_count": 58,
   "metadata": {
    "id": "G3_1RuOYSMKk"
   },
   "outputs": [
    {
     "data": {
      "text/html": [
       "<div>\n",
       "<style scoped>\n",
       "    .dataframe tbody tr th:only-of-type {\n",
       "        vertical-align: middle;\n",
       "    }\n",
       "\n",
       "    .dataframe tbody tr th {\n",
       "        vertical-align: top;\n",
       "    }\n",
       "\n",
       "    .dataframe thead th {\n",
       "        text-align: right;\n",
       "    }\n",
       "</style>\n",
       "<table border=\"1\" class=\"dataframe\">\n",
       "  <thead>\n",
       "    <tr style=\"text-align: right;\">\n",
       "      <th></th>\n",
       "      <th>sexo</th>\n",
       "      <th>grupo_edad</th>\n",
       "      <th>num_casos_per_pop</th>\n",
       "      <th>lag_28</th>\n",
       "      <th>lag_29</th>\n",
       "      <th>lag_30</th>\n",
       "      <th>lag_31</th>\n",
       "      <th>lag_32</th>\n",
       "      <th>lag_33</th>\n",
       "      <th>lag_34</th>\n",
       "      <th>lag_35</th>\n",
       "      <th>lag_36</th>\n",
       "      <th>lag_37</th>\n",
       "      <th>lag_38</th>\n",
       "      <th>lag_39</th>\n",
       "      <th>lag_40</th>\n",
       "      <th>lag_41</th>\n",
       "      <th>lag_42</th>\n",
       "      <th>lag_43</th>\n",
       "      <th>lag_44</th>\n",
       "    </tr>\n",
       "    <tr>\n",
       "      <th>fecha</th>\n",
       "      <th></th>\n",
       "      <th></th>\n",
       "      <th></th>\n",
       "      <th></th>\n",
       "      <th></th>\n",
       "      <th></th>\n",
       "      <th></th>\n",
       "      <th></th>\n",
       "      <th></th>\n",
       "      <th></th>\n",
       "      <th></th>\n",
       "      <th></th>\n",
       "      <th></th>\n",
       "      <th></th>\n",
       "      <th></th>\n",
       "      <th></th>\n",
       "      <th></th>\n",
       "      <th></th>\n",
       "      <th></th>\n",
       "      <th></th>\n",
       "    </tr>\n",
       "  </thead>\n",
       "  <tbody>\n",
       "    <tr>\n",
       "      <th>2021-01-01</th>\n",
       "      <td>0</td>\n",
       "      <td>0</td>\n",
       "      <td>0.492029</td>\n",
       "      <td>NaN</td>\n",
       "      <td>NaN</td>\n",
       "      <td>NaN</td>\n",
       "      <td>NaN</td>\n",
       "      <td>NaN</td>\n",
       "      <td>NaN</td>\n",
       "      <td>NaN</td>\n",
       "      <td>NaN</td>\n",
       "      <td>NaN</td>\n",
       "      <td>NaN</td>\n",
       "      <td>NaN</td>\n",
       "      <td>NaN</td>\n",
       "      <td>NaN</td>\n",
       "      <td>NaN</td>\n",
       "      <td>NaN</td>\n",
       "      <td>NaN</td>\n",
       "      <td>NaN</td>\n",
       "    </tr>\n",
       "    <tr>\n",
       "      <th>2021-01-01</th>\n",
       "      <td>0</td>\n",
       "      <td>1</td>\n",
       "      <td>0.735904</td>\n",
       "      <td>NaN</td>\n",
       "      <td>NaN</td>\n",
       "      <td>NaN</td>\n",
       "      <td>NaN</td>\n",
       "      <td>NaN</td>\n",
       "      <td>NaN</td>\n",
       "      <td>NaN</td>\n",
       "      <td>NaN</td>\n",
       "      <td>NaN</td>\n",
       "      <td>NaN</td>\n",
       "      <td>NaN</td>\n",
       "      <td>NaN</td>\n",
       "      <td>NaN</td>\n",
       "      <td>NaN</td>\n",
       "      <td>NaN</td>\n",
       "      <td>NaN</td>\n",
       "      <td>NaN</td>\n",
       "    </tr>\n",
       "    <tr>\n",
       "      <th>2021-01-01</th>\n",
       "      <td>0</td>\n",
       "      <td>2</td>\n",
       "      <td>1.178730</td>\n",
       "      <td>NaN</td>\n",
       "      <td>NaN</td>\n",
       "      <td>NaN</td>\n",
       "      <td>NaN</td>\n",
       "      <td>NaN</td>\n",
       "      <td>NaN</td>\n",
       "      <td>NaN</td>\n",
       "      <td>NaN</td>\n",
       "      <td>NaN</td>\n",
       "      <td>NaN</td>\n",
       "      <td>NaN</td>\n",
       "      <td>NaN</td>\n",
       "      <td>NaN</td>\n",
       "      <td>NaN</td>\n",
       "      <td>NaN</td>\n",
       "      <td>NaN</td>\n",
       "      <td>NaN</td>\n",
       "    </tr>\n",
       "    <tr>\n",
       "      <th>2021-01-01</th>\n",
       "      <td>0</td>\n",
       "      <td>3</td>\n",
       "      <td>1.125249</td>\n",
       "      <td>NaN</td>\n",
       "      <td>NaN</td>\n",
       "      <td>NaN</td>\n",
       "      <td>NaN</td>\n",
       "      <td>NaN</td>\n",
       "      <td>NaN</td>\n",
       "      <td>NaN</td>\n",
       "      <td>NaN</td>\n",
       "      <td>NaN</td>\n",
       "      <td>NaN</td>\n",
       "      <td>NaN</td>\n",
       "      <td>NaN</td>\n",
       "      <td>NaN</td>\n",
       "      <td>NaN</td>\n",
       "      <td>NaN</td>\n",
       "      <td>NaN</td>\n",
       "      <td>NaN</td>\n",
       "    </tr>\n",
       "    <tr>\n",
       "      <th>2021-01-01</th>\n",
       "      <td>0</td>\n",
       "      <td>4</td>\n",
       "      <td>1.416188</td>\n",
       "      <td>NaN</td>\n",
       "      <td>NaN</td>\n",
       "      <td>NaN</td>\n",
       "      <td>NaN</td>\n",
       "      <td>NaN</td>\n",
       "      <td>NaN</td>\n",
       "      <td>NaN</td>\n",
       "      <td>NaN</td>\n",
       "      <td>NaN</td>\n",
       "      <td>NaN</td>\n",
       "      <td>NaN</td>\n",
       "      <td>NaN</td>\n",
       "      <td>NaN</td>\n",
       "      <td>NaN</td>\n",
       "      <td>NaN</td>\n",
       "      <td>NaN</td>\n",
       "      <td>NaN</td>\n",
       "    </tr>\n",
       "    <tr>\n",
       "      <th>2021-01-01</th>\n",
       "      <td>0</td>\n",
       "      <td>5</td>\n",
       "      <td>1.467530</td>\n",
       "      <td>NaN</td>\n",
       "      <td>NaN</td>\n",
       "      <td>NaN</td>\n",
       "      <td>NaN</td>\n",
       "      <td>NaN</td>\n",
       "      <td>NaN</td>\n",
       "      <td>NaN</td>\n",
       "      <td>NaN</td>\n",
       "      <td>NaN</td>\n",
       "      <td>NaN</td>\n",
       "      <td>NaN</td>\n",
       "      <td>NaN</td>\n",
       "      <td>NaN</td>\n",
       "      <td>NaN</td>\n",
       "      <td>NaN</td>\n",
       "      <td>NaN</td>\n",
       "      <td>NaN</td>\n",
       "    </tr>\n",
       "    <tr>\n",
       "      <th>2021-01-01</th>\n",
       "      <td>0</td>\n",
       "      <td>6</td>\n",
       "      <td>1.065350</td>\n",
       "      <td>NaN</td>\n",
       "      <td>NaN</td>\n",
       "      <td>NaN</td>\n",
       "      <td>NaN</td>\n",
       "      <td>NaN</td>\n",
       "      <td>NaN</td>\n",
       "      <td>NaN</td>\n",
       "      <td>NaN</td>\n",
       "      <td>NaN</td>\n",
       "      <td>NaN</td>\n",
       "      <td>NaN</td>\n",
       "      <td>NaN</td>\n",
       "      <td>NaN</td>\n",
       "      <td>NaN</td>\n",
       "      <td>NaN</td>\n",
       "      <td>NaN</td>\n",
       "      <td>NaN</td>\n",
       "    </tr>\n",
       "    <tr>\n",
       "      <th>2021-01-01</th>\n",
       "      <td>0</td>\n",
       "      <td>7</td>\n",
       "      <td>0.676005</td>\n",
       "      <td>NaN</td>\n",
       "      <td>NaN</td>\n",
       "      <td>NaN</td>\n",
       "      <td>NaN</td>\n",
       "      <td>NaN</td>\n",
       "      <td>NaN</td>\n",
       "      <td>NaN</td>\n",
       "      <td>NaN</td>\n",
       "      <td>NaN</td>\n",
       "      <td>NaN</td>\n",
       "      <td>NaN</td>\n",
       "      <td>NaN</td>\n",
       "      <td>NaN</td>\n",
       "      <td>NaN</td>\n",
       "      <td>NaN</td>\n",
       "      <td>NaN</td>\n",
       "      <td>NaN</td>\n",
       "    </tr>\n",
       "    <tr>\n",
       "      <th>2021-01-01</th>\n",
       "      <td>0</td>\n",
       "      <td>8</td>\n",
       "      <td>0.504864</td>\n",
       "      <td>NaN</td>\n",
       "      <td>NaN</td>\n",
       "      <td>NaN</td>\n",
       "      <td>NaN</td>\n",
       "      <td>NaN</td>\n",
       "      <td>NaN</td>\n",
       "      <td>NaN</td>\n",
       "      <td>NaN</td>\n",
       "      <td>NaN</td>\n",
       "      <td>NaN</td>\n",
       "      <td>NaN</td>\n",
       "      <td>NaN</td>\n",
       "      <td>NaN</td>\n",
       "      <td>NaN</td>\n",
       "      <td>NaN</td>\n",
       "      <td>NaN</td>\n",
       "      <td>NaN</td>\n",
       "    </tr>\n",
       "    <tr>\n",
       "      <th>2021-01-01</th>\n",
       "      <td>0</td>\n",
       "      <td>9</td>\n",
       "      <td>0.012836</td>\n",
       "      <td>NaN</td>\n",
       "      <td>NaN</td>\n",
       "      <td>NaN</td>\n",
       "      <td>NaN</td>\n",
       "      <td>NaN</td>\n",
       "      <td>NaN</td>\n",
       "      <td>NaN</td>\n",
       "      <td>NaN</td>\n",
       "      <td>NaN</td>\n",
       "      <td>NaN</td>\n",
       "      <td>NaN</td>\n",
       "      <td>NaN</td>\n",
       "      <td>NaN</td>\n",
       "      <td>NaN</td>\n",
       "      <td>NaN</td>\n",
       "      <td>NaN</td>\n",
       "      <td>NaN</td>\n",
       "    </tr>\n",
       "  </tbody>\n",
       "</table>\n",
       "</div>"
      ],
      "text/plain": [
       "            sexo  grupo_edad  num_casos_per_pop  lag_28  lag_29  lag_30  \\\n",
       "fecha                                                                     \n",
       "2021-01-01     0           0           0.492029     NaN     NaN     NaN   \n",
       "2021-01-01     0           1           0.735904     NaN     NaN     NaN   \n",
       "2021-01-01     0           2           1.178730     NaN     NaN     NaN   \n",
       "2021-01-01     0           3           1.125249     NaN     NaN     NaN   \n",
       "2021-01-01     0           4           1.416188     NaN     NaN     NaN   \n",
       "2021-01-01     0           5           1.467530     NaN     NaN     NaN   \n",
       "2021-01-01     0           6           1.065350     NaN     NaN     NaN   \n",
       "2021-01-01     0           7           0.676005     NaN     NaN     NaN   \n",
       "2021-01-01     0           8           0.504864     NaN     NaN     NaN   \n",
       "2021-01-01     0           9           0.012836     NaN     NaN     NaN   \n",
       "\n",
       "            lag_31  lag_32  lag_33  lag_34  lag_35  lag_36  lag_37  lag_38  \\\n",
       "fecha                                                                        \n",
       "2021-01-01     NaN     NaN     NaN     NaN     NaN     NaN     NaN     NaN   \n",
       "2021-01-01     NaN     NaN     NaN     NaN     NaN     NaN     NaN     NaN   \n",
       "2021-01-01     NaN     NaN     NaN     NaN     NaN     NaN     NaN     NaN   \n",
       "2021-01-01     NaN     NaN     NaN     NaN     NaN     NaN     NaN     NaN   \n",
       "2021-01-01     NaN     NaN     NaN     NaN     NaN     NaN     NaN     NaN   \n",
       "2021-01-01     NaN     NaN     NaN     NaN     NaN     NaN     NaN     NaN   \n",
       "2021-01-01     NaN     NaN     NaN     NaN     NaN     NaN     NaN     NaN   \n",
       "2021-01-01     NaN     NaN     NaN     NaN     NaN     NaN     NaN     NaN   \n",
       "2021-01-01     NaN     NaN     NaN     NaN     NaN     NaN     NaN     NaN   \n",
       "2021-01-01     NaN     NaN     NaN     NaN     NaN     NaN     NaN     NaN   \n",
       "\n",
       "            lag_39  lag_40  lag_41  lag_42  lag_43  lag_44  \n",
       "fecha                                                       \n",
       "2021-01-01     NaN     NaN     NaN     NaN     NaN     NaN  \n",
       "2021-01-01     NaN     NaN     NaN     NaN     NaN     NaN  \n",
       "2021-01-01     NaN     NaN     NaN     NaN     NaN     NaN  \n",
       "2021-01-01     NaN     NaN     NaN     NaN     NaN     NaN  \n",
       "2021-01-01     NaN     NaN     NaN     NaN     NaN     NaN  \n",
       "2021-01-01     NaN     NaN     NaN     NaN     NaN     NaN  \n",
       "2021-01-01     NaN     NaN     NaN     NaN     NaN     NaN  \n",
       "2021-01-01     NaN     NaN     NaN     NaN     NaN     NaN  \n",
       "2021-01-01     NaN     NaN     NaN     NaN     NaN     NaN  \n",
       "2021-01-01     NaN     NaN     NaN     NaN     NaN     NaN  "
      ]
     },
     "execution_count": 58,
     "metadata": {},
     "output_type": "execute_result"
    }
   ],
   "source": [
    "data_2021.head(10)"
   ]
  },
  {
   "cell_type": "code",
   "execution_count": 59,
   "metadata": {
    "id": "08TUZ88FSlzP"
   },
   "outputs": [],
   "source": [
    "from sklearn.linear_model import LinearRegression\n",
    "from sklearn.model_selection import cross_val_score, TimeSeriesSplit\n",
    "from sklearn.metrics import r2_score\n",
    "\n",
    "# for time-series cross-validation set 5 folds \n",
    "tscv = TimeSeriesSplit(n_splits=5)"
   ]
  },
  {
   "cell_type": "code",
   "execution_count": 60,
   "metadata": {
    "id": "0vLQM4eSS90o"
   },
   "outputs": [],
   "source": [
    "def timeseries_train_test_split(X, y, test_size):\n",
    "    \"\"\"\n",
    "        Perform train-test split with respect to time series structure\n",
    "    \"\"\"\n",
    "    \n",
    "    # get the index after which test set starts\n",
    "    test_index = int(len(X)*(1-test_size))\n",
    "    \n",
    "    X_train = X.iloc[:test_index]\n",
    "    y_train = y.iloc[:test_index]\n",
    "    X_test = X.iloc[test_index:]\n",
    "    y_test = y.iloc[test_index:]\n",
    "    \n",
    "    return X_train, X_test, y_train, y_test"
   ]
  },
  {
   "cell_type": "code",
   "execution_count": 61,
   "metadata": {
    "id": "HCvt35ncT8Od"
   },
   "outputs": [],
   "source": [
    "y = data_2021.dropna()[\"num_casos_per_pop\"]\n",
    "X = data_2021.dropna().drop(['num_casos_per_pop'], axis=1)\n",
    "\n",
    "# reserve 30% of data for testing\n",
    "X_train, X_test, y_train, y_test = timeseries_train_test_split(X, y, test_size=0.3)"
   ]
  },
  {
   "cell_type": "code",
   "execution_count": 62,
   "metadata": {
    "id": "ChZy-etKT92j"
   },
   "outputs": [
    {
     "data": {
      "text/plain": [
       "LinearRegression()"
      ]
     },
     "execution_count": 62,
     "metadata": {},
     "output_type": "execute_result"
    }
   ],
   "source": [
    "# model building\n",
    "lr = LinearRegression()\n",
    "lr.fit(X_train, y_train)"
   ]
  },
  {
   "cell_type": "code",
   "execution_count": 63,
   "metadata": {
    "id": "I0X848w9UKLI"
   },
   "outputs": [],
   "source": [
    "def plotModelResults(model, X_train=X_train, X_test=X_test, plot_intervals=False, plot_anomalies=False):\n",
    "    \"\"\"\n",
    "        Plots modelled vs fact values, prediction intervals and anomalies\n",
    "    \n",
    "    \"\"\"\n",
    "    \n",
    "    prediction = np.clip(model.predict(X_test), 0, np.inf)\n",
    "    \n",
    "    plt.figure(figsize=(15, 7))\n",
    "    plt.plot(X_test.index, prediction, \"g\", label=\"prediction\", linewidth=2.0)\n",
    "    plt.plot(X_test.index, y_test.values, label=\"actual\", linewidth=2.0)\n",
    "    \n",
    "    error = r2_score(y_test, prediction)\n",
    "    plt.title(\"R2 error {0:.2f}\".format(error))\n",
    "    plt.legend(loc=\"best\")\n",
    "    plt.tight_layout()\n",
    "    plt.grid(True);\n",
    "    \n",
    "def plotCoefficients(model):\n",
    "    \"\"\"\n",
    "        Plots sorted coefficient values of the model\n",
    "    \"\"\"\n",
    "    \n",
    "    coefs = pd.DataFrame(model.coef_, X_train.columns)\n",
    "    coefs.columns = [\"coef\"]\n",
    "    coefs[\"abs\"] = coefs.coef.apply(np.abs)\n",
    "    coefs = coefs.sort_values(by=\"abs\", ascending=False).drop([\"abs\"], axis=1)\n",
    "    \n",
    "    plt.figure(figsize=(15, 7))\n",
    "    coefs.coef.plot(kind='bar')\n",
    "    plt.xlabel(\"Variables\")\n",
    "    plt.ylabel(\"coef\")\n",
    "    plt.grid(True, axis='y')\n",
    "    plt.hlines(y=0, xmin=0, xmax=len(coefs), linestyles='dashed');"
   ]
  },
  {
   "cell_type": "code",
   "execution_count": 64,
   "metadata": {
    "id": "cfv_jUrHUPWm"
   },
   "outputs": [
    {
     "data": {
      "image/png": "[encoded data removed]",
      "text/plain": [
       "<Figure size 1080x504 with 1 Axes>"
      ]
     },
     "metadata": {
      "needs_background": "light"
     },
     "output_type": "display_data"
    },
    {
     "data": {
      "image/png": "[encoded data removed]",
      "text/plain": [
       "<Figure size 1080x504 with 1 Axes>"
      ]
     },
     "metadata": {
      "needs_background": "light"
     },
     "output_type": "display_data"
    }
   ],
   "source": [
    "plotModelResults(lr, plot_intervals=True)\n",
    "plotCoefficients(lr)"
   ]
  },
  {
   "cell_type": "markdown",
   "metadata": {
    "id": "6FNv5LF9viGb"
   },
   "source": [
    "This is very interesting, we can see that **Sex, age range** has a higher **coefficient** values which makes them very significant in the model. But we need to scale the data since we don't have our independent variables in the same scale."
   ]
  },
  {
   "cell_type": "code",
   "execution_count": 66,
   "metadata": {
    "id": "V9VXVqZhzP8Z"
   },
   "outputs": [],
   "source": [
    "from sklearn.preprocessing import RobustScaler\n",
    "scaler = RobustScaler()"
   ]
  },
  {
   "cell_type": "code",
   "execution_count": 67,
   "metadata": {
    "id": "gFr8-CtMzUbX"
   },
   "outputs": [
    {
     "data": {
      "image/png": "[encoded data removed]",
      "text/plain": [
       "<Figure size 1080x504 with 1 Axes>"
      ]
     },
     "metadata": {
      "needs_background": "light"
     },
     "output_type": "display_data"
    },
    {
     "data": {
      "image/png": "[encoded data removed]",
      "text/plain": [
       "<Figure size 1080x504 with 1 Axes>"
      ]
     },
     "metadata": {
      "needs_background": "light"
     },
     "output_type": "display_data"
    }
   ],
   "source": [
    "y = data_2021.dropna()[\"num_casos_per_pop\"]\n",
    "X = data_2021.dropna().drop(['num_casos_per_pop'], axis=1)\n",
    "\n",
    "X_train, X_test, y_train, y_test = timeseries_train_test_split(X, y, test_size=0.3)\n",
    "\n",
    "X_train_scaled = pd.DataFrame(scaler.fit_transform(X_train), columns=X_train.columns)\n",
    "X_train_scaled.index = X_train.index\n",
    "X_test_scaled = pd.DataFrame(scaler.transform(X_test), columns=X_test.columns)\n",
    "X_test_scaled.index = X_test.index\n",
    "\n",
    "lr = LinearRegression()\n",
    "lr.fit(X_train_scaled, y_train)\n",
    "\n",
    "plotModelResults(lr, X_train=X_train_scaled, X_test=X_test_scaled, plot_intervals=True)\n",
    "plotCoefficients(lr)"
   ]
  },
  {
   "cell_type": "markdown",
   "metadata": {
    "id": "wHSkd6jC0T1N"
   },
   "source": [
    "Now we clearly see which variables are important. One discovery is that for some reason **lag 30 and lag 44** seem to be very important in our model. Let's add extract date features and see if that helps more."
   ]
  },
  {
   "cell_type": "code",
   "execution_count": 68,
   "metadata": {
    "id": "RY9iQ2T1URGM"
   },
   "outputs": [
    {
     "data": {
      "text/html": [
       "<div>\n",
       "<style scoped>\n",
       "    .dataframe tbody tr th:only-of-type {\n",
       "        vertical-align: middle;\n",
       "    }\n",
       "\n",
       "    .dataframe tbody tr th {\n",
       "        vertical-align: top;\n",
       "    }\n",
       "\n",
       "    .dataframe thead th {\n",
       "        text-align: right;\n",
       "    }\n",
       "</style>\n",
       "<table border=\"1\" class=\"dataframe\">\n",
       "  <thead>\n",
       "    <tr style=\"text-align: right;\">\n",
       "      <th></th>\n",
       "      <th>sexo</th>\n",
       "      <th>grupo_edad</th>\n",
       "      <th>num_casos_per_pop</th>\n",
       "      <th>lag_28</th>\n",
       "      <th>lag_29</th>\n",
       "      <th>lag_30</th>\n",
       "      <th>lag_31</th>\n",
       "      <th>lag_32</th>\n",
       "      <th>lag_33</th>\n",
       "      <th>lag_34</th>\n",
       "      <th>...</th>\n",
       "      <th>lag_40</th>\n",
       "      <th>lag_41</th>\n",
       "      <th>lag_42</th>\n",
       "      <th>lag_43</th>\n",
       "      <th>lag_44</th>\n",
       "      <th>day</th>\n",
       "      <th>month</th>\n",
       "      <th>weekday</th>\n",
       "      <th>is_weekend</th>\n",
       "      <th>week_of_year</th>\n",
       "    </tr>\n",
       "    <tr>\n",
       "      <th>fecha</th>\n",
       "      <th></th>\n",
       "      <th></th>\n",
       "      <th></th>\n",
       "      <th></th>\n",
       "      <th></th>\n",
       "      <th></th>\n",
       "      <th></th>\n",
       "      <th></th>\n",
       "      <th></th>\n",
       "      <th></th>\n",
       "      <th></th>\n",
       "      <th></th>\n",
       "      <th></th>\n",
       "      <th></th>\n",
       "      <th></th>\n",
       "      <th></th>\n",
       "      <th></th>\n",
       "      <th></th>\n",
       "      <th></th>\n",
       "      <th></th>\n",
       "      <th></th>\n",
       "    </tr>\n",
       "  </thead>\n",
       "  <tbody>\n",
       "    <tr>\n",
       "      <th>2021-06-16</th>\n",
       "      <td>2</td>\n",
       "      <td>5</td>\n",
       "      <td>0.0</td>\n",
       "      <td>0.000000</td>\n",
       "      <td>0.000000</td>\n",
       "      <td>0.000000</td>\n",
       "      <td>0.0</td>\n",
       "      <td>0.0</td>\n",
       "      <td>0.0</td>\n",
       "      <td>0.0</td>\n",
       "      <td>...</td>\n",
       "      <td>0.192533</td>\n",
       "      <td>0.408598</td>\n",
       "      <td>0.367952</td>\n",
       "      <td>0.363674</td>\n",
       "      <td>0.286660</td>\n",
       "      <td>16</td>\n",
       "      <td>6</td>\n",
       "      <td>2</td>\n",
       "      <td>0</td>\n",
       "      <td>24</td>\n",
       "    </tr>\n",
       "    <tr>\n",
       "      <th>2021-06-16</th>\n",
       "      <td>2</td>\n",
       "      <td>6</td>\n",
       "      <td>0.0</td>\n",
       "      <td>0.000000</td>\n",
       "      <td>0.000000</td>\n",
       "      <td>0.000000</td>\n",
       "      <td>0.0</td>\n",
       "      <td>0.0</td>\n",
       "      <td>0.0</td>\n",
       "      <td>0.0</td>\n",
       "      <td>...</td>\n",
       "      <td>0.094127</td>\n",
       "      <td>0.192533</td>\n",
       "      <td>0.408598</td>\n",
       "      <td>0.367952</td>\n",
       "      <td>0.363674</td>\n",
       "      <td>16</td>\n",
       "      <td>6</td>\n",
       "      <td>2</td>\n",
       "      <td>0</td>\n",
       "      <td>24</td>\n",
       "    </tr>\n",
       "    <tr>\n",
       "      <th>2021-06-16</th>\n",
       "      <td>2</td>\n",
       "      <td>7</td>\n",
       "      <td>0.0</td>\n",
       "      <td>0.010696</td>\n",
       "      <td>0.000000</td>\n",
       "      <td>0.000000</td>\n",
       "      <td>0.0</td>\n",
       "      <td>0.0</td>\n",
       "      <td>0.0</td>\n",
       "      <td>0.0</td>\n",
       "      <td>...</td>\n",
       "      <td>0.027810</td>\n",
       "      <td>0.094127</td>\n",
       "      <td>0.192533</td>\n",
       "      <td>0.408598</td>\n",
       "      <td>0.367952</td>\n",
       "      <td>16</td>\n",
       "      <td>6</td>\n",
       "      <td>2</td>\n",
       "      <td>0</td>\n",
       "      <td>24</td>\n",
       "    </tr>\n",
       "    <tr>\n",
       "      <th>2021-06-16</th>\n",
       "      <td>2</td>\n",
       "      <td>8</td>\n",
       "      <td>0.0</td>\n",
       "      <td>0.000000</td>\n",
       "      <td>0.010696</td>\n",
       "      <td>0.000000</td>\n",
       "      <td>0.0</td>\n",
       "      <td>0.0</td>\n",
       "      <td>0.0</td>\n",
       "      <td>0.0</td>\n",
       "      <td>...</td>\n",
       "      <td>0.051342</td>\n",
       "      <td>0.027810</td>\n",
       "      <td>0.094127</td>\n",
       "      <td>0.192533</td>\n",
       "      <td>0.408598</td>\n",
       "      <td>16</td>\n",
       "      <td>6</td>\n",
       "      <td>2</td>\n",
       "      <td>0</td>\n",
       "      <td>24</td>\n",
       "    </tr>\n",
       "    <tr>\n",
       "      <th>2021-06-16</th>\n",
       "      <td>2</td>\n",
       "      <td>9</td>\n",
       "      <td>0.0</td>\n",
       "      <td>0.000000</td>\n",
       "      <td>0.000000</td>\n",
       "      <td>0.010696</td>\n",
       "      <td>0.0</td>\n",
       "      <td>0.0</td>\n",
       "      <td>0.0</td>\n",
       "      <td>0.0</td>\n",
       "      <td>...</td>\n",
       "      <td>0.079152</td>\n",
       "      <td>0.051342</td>\n",
       "      <td>0.027810</td>\n",
       "      <td>0.094127</td>\n",
       "      <td>0.192533</td>\n",
       "      <td>16</td>\n",
       "      <td>6</td>\n",
       "      <td>2</td>\n",
       "      <td>0</td>\n",
       "      <td>24</td>\n",
       "    </tr>\n",
       "  </tbody>\n",
       "</table>\n",
       "<p>5 rows × 25 columns</p>\n",
       "</div>"
      ],
      "text/plain": [
       "            sexo  grupo_edad  num_casos_per_pop    lag_28    lag_29    lag_30  \\\n",
       "fecha                                                                           \n",
       "2021-06-16     2           5                0.0  0.000000  0.000000  0.000000   \n",
       "2021-06-16     2           6                0.0  0.000000  0.000000  0.000000   \n",
       "2021-06-16     2           7                0.0  0.010696  0.000000  0.000000   \n",
       "2021-06-16     2           8                0.0  0.000000  0.010696  0.000000   \n",
       "2021-06-16     2           9                0.0  0.000000  0.000000  0.010696   \n",
       "\n",
       "            lag_31  lag_32  lag_33  lag_34  ...    lag_40    lag_41    lag_42  \\\n",
       "fecha                                       ...                                 \n",
       "2021-06-16     0.0     0.0     0.0     0.0  ...  0.192533  0.408598  0.367952   \n",
       "2021-06-16     0.0     0.0     0.0     0.0  ...  0.094127  0.192533  0.408598   \n",
       "2021-06-16     0.0     0.0     0.0     0.0  ...  0.027810  0.094127  0.192533   \n",
       "2021-06-16     0.0     0.0     0.0     0.0  ...  0.051342  0.027810  0.094127   \n",
       "2021-06-16     0.0     0.0     0.0     0.0  ...  0.079152  0.051342  0.027810   \n",
       "\n",
       "              lag_43    lag_44  day  month  weekday  is_weekend  week_of_year  \n",
       "fecha                                                                          \n",
       "2021-06-16  0.363674  0.286660   16      6        2           0            24  \n",
       "2021-06-16  0.367952  0.363674   16      6        2           0            24  \n",
       "2021-06-16  0.408598  0.367952   16      6        2           0            24  \n",
       "2021-06-16  0.192533  0.408598   16      6        2           0            24  \n",
       "2021-06-16  0.094127  0.192533   16      6        2           0            24  \n",
       "\n",
       "[5 rows x 25 columns]"
      ]
     },
     "execution_count": 68,
     "metadata": {},
     "output_type": "execute_result"
    }
   ],
   "source": [
    "data_2021[\"day\"] = data_2021.index.day\n",
    "data_2021[\"month\"] = data_2021.index.month\n",
    "data_2021[\"weekday\"] = data_2021.index.weekday\n",
    "data_2021['is_weekend'] = data_2021.index.weekday.isin([5,6])*1\n",
    "data_2021['week_of_year'] = data_2021.index.weekofyear\n",
    "data_2021.tail()"
   ]
  },
  {
   "cell_type": "code",
   "execution_count": 69,
   "metadata": {
    "id": "CNXDThYAbQmp"
   },
   "outputs": [
    {
     "data": {
      "image/png": "[encoded data removed]",
      "text/plain": [
       "<Figure size 1080x504 with 1 Axes>"
      ]
     },
     "metadata": {
      "needs_background": "light"
     },
     "output_type": "display_data"
    },
    {
     "data": {
      "image/png": "[encoded data removed]",
      "text/plain": [
       "<Figure size 1080x504 with 1 Axes>"
      ]
     },
     "metadata": {
      "needs_background": "light"
     },
     "output_type": "display_data"
    }
   ],
   "source": [
    "y = data_2021.dropna()[\"num_casos_per_pop\"]\n",
    "X = data_2021.dropna().drop(['num_casos_per_pop'], axis=1)\n",
    "\n",
    "X_train, X_test, y_train, y_test = timeseries_train_test_split(X, y, test_size=0.3)\n",
    "\n",
    "X_train_scaled = pd.DataFrame(scaler.fit_transform(X_train), columns=X_train.columns)\n",
    "X_train_scaled.index = X_train.index\n",
    "X_test_scaled = pd.DataFrame(scaler.transform(X_test), columns=X_test.columns)\n",
    "X_test_scaled.index = X_test.index\n",
    "\n",
    "lr = LinearRegression()\n",
    "lr.fit(X_train_scaled, y_train)\n",
    "\n",
    "plotModelResults(lr, X_train=X_train_scaled, X_test=X_test_scaled, plot_intervals=True)\n",
    "plotCoefficients(lr)"
   ]
  },
  {
   "cell_type": "markdown",
   "metadata": {
    "id": "o4Uo-sMbHJC8"
   },
   "source": [
    "# Prediction for 7 Days."
   ]
  },
  {
   "cell_type": "markdown",
   "metadata": {
    "id": "7-orQhTJHLcG"
   },
   "source": [
    "We will be taking the last 7 days in year 2021 for the prediction and we'll use 45 days of data to predict 7 days in the future."
   ]
  },
  {
   "cell_type": "code",
   "execution_count": 70,
   "metadata": {
    "id": "vw64cpYSHWC4"
   },
   "outputs": [
    {
     "data": {
      "text/plain": [
       "Timestamp('2021-06-16 00:00:00')"
      ]
     },
     "execution_count": 70,
     "metadata": {},
     "output_type": "execute_result"
    }
   ],
   "source": [
    "max(data_2021.index)"
   ]
  },
  {
   "cell_type": "code",
   "execution_count": 71,
   "metadata": {
    "id": "HHBe2lSCGxI3"
   },
   "outputs": [],
   "source": [
    "test_split_date = pd.to_datetime(\"2021-06-09\")\n",
    "train_split_date = pd.to_datetime(\"2021-04-24\")\n",
    "pred_data = national_data[national_data.index > train_split_date].drop([\"num_hosp\", \"num_uci\", \"num_def\"], axis=1)"
   ]
  },
  {
   "cell_type": "code",
   "execution_count": 72,
   "metadata": {
    "id": "yW6aJC6jJQV0"
   },
   "outputs": [
    {
     "data": {
      "text/html": [
       "<div>\n",
       "<style scoped>\n",
       "    .dataframe tbody tr th:only-of-type {\n",
       "        vertical-align: middle;\n",
       "    }\n",
       "\n",
       "    .dataframe tbody tr th {\n",
       "        vertical-align: top;\n",
       "    }\n",
       "\n",
       "    .dataframe thead th {\n",
       "        text-align: right;\n",
       "    }\n",
       "</style>\n",
       "<table border=\"1\" class=\"dataframe\">\n",
       "  <thead>\n",
       "    <tr style=\"text-align: right;\">\n",
       "      <th></th>\n",
       "      <th>num_casos</th>\n",
       "      <th>sexo</th>\n",
       "      <th>grupo_edad</th>\n",
       "    </tr>\n",
       "    <tr>\n",
       "      <th>fecha</th>\n",
       "      <th></th>\n",
       "      <th></th>\n",
       "      <th></th>\n",
       "    </tr>\n",
       "  </thead>\n",
       "  <tbody>\n",
       "    <tr>\n",
       "      <th>2021-04-25</th>\n",
       "      <td>189</td>\n",
       "      <td>0</td>\n",
       "      <td>0</td>\n",
       "    </tr>\n",
       "    <tr>\n",
       "      <th>2021-04-25</th>\n",
       "      <td>257</td>\n",
       "      <td>0</td>\n",
       "      <td>1</td>\n",
       "    </tr>\n",
       "    <tr>\n",
       "      <th>2021-04-25</th>\n",
       "      <td>236</td>\n",
       "      <td>0</td>\n",
       "      <td>2</td>\n",
       "    </tr>\n",
       "    <tr>\n",
       "      <th>2021-04-25</th>\n",
       "      <td>295</td>\n",
       "      <td>0</td>\n",
       "      <td>3</td>\n",
       "    </tr>\n",
       "    <tr>\n",
       "      <th>2021-04-25</th>\n",
       "      <td>401</td>\n",
       "      <td>0</td>\n",
       "      <td>4</td>\n",
       "    </tr>\n",
       "    <tr>\n",
       "      <th>...</th>\n",
       "      <td>...</td>\n",
       "      <td>...</td>\n",
       "      <td>...</td>\n",
       "    </tr>\n",
       "    <tr>\n",
       "      <th>2021-06-16</th>\n",
       "      <td>0</td>\n",
       "      <td>2</td>\n",
       "      <td>5</td>\n",
       "    </tr>\n",
       "    <tr>\n",
       "      <th>2021-06-16</th>\n",
       "      <td>0</td>\n",
       "      <td>2</td>\n",
       "      <td>6</td>\n",
       "    </tr>\n",
       "    <tr>\n",
       "      <th>2021-06-16</th>\n",
       "      <td>0</td>\n",
       "      <td>2</td>\n",
       "      <td>7</td>\n",
       "    </tr>\n",
       "    <tr>\n",
       "      <th>2021-06-16</th>\n",
       "      <td>0</td>\n",
       "      <td>2</td>\n",
       "      <td>8</td>\n",
       "    </tr>\n",
       "    <tr>\n",
       "      <th>2021-06-16</th>\n",
       "      <td>0</td>\n",
       "      <td>2</td>\n",
       "      <td>9</td>\n",
       "    </tr>\n",
       "  </tbody>\n",
       "</table>\n",
       "<p>1590 rows × 3 columns</p>\n",
       "</div>"
      ],
      "text/plain": [
       "            num_casos  sexo  grupo_edad\n",
       "fecha                                  \n",
       "2021-04-25        189     0           0\n",
       "2021-04-25        257     0           1\n",
       "2021-04-25        236     0           2\n",
       "2021-04-25        295     0           3\n",
       "2021-04-25        401     0           4\n",
       "...               ...   ...         ...\n",
       "2021-06-16          0     2           5\n",
       "2021-06-16          0     2           6\n",
       "2021-06-16          0     2           7\n",
       "2021-06-16          0     2           8\n",
       "2021-06-16          0     2           9\n",
       "\n",
       "[1590 rows x 3 columns]"
      ]
     },
     "execution_count": 72,
     "metadata": {},
     "output_type": "execute_result"
    }
   ],
   "source": [
    "pred_data"
   ]
  },
  {
   "cell_type": "markdown",
   "metadata": {
    "id": "kybvMc9NJ-GY"
   },
   "source": [
    "### Calculate case per population"
   ]
  },
  {
   "cell_type": "code",
   "execution_count": 73,
   "metadata": {
    "id": "FTgqPDIsJ1cI"
   },
   "outputs": [],
   "source": [
    "population = 46_745_216\n",
    "\n",
    "pred_data[\"num_casos_per_pop\"] = pred_data[\"num_casos\"].apply(lambda x: (x * 100_000)/population)\n",
    "pred_data.drop(\"num_casos\", axis=1, inplace=True)"
   ]
  },
  {
   "cell_type": "code",
   "execution_count": 74,
   "metadata": {
    "id": "i29Xhf_rJKrC"
   },
   "outputs": [],
   "source": [
    "# Adding the lag of the target variable from 28 steps back up to 45 days\n",
    "for i in range(28, 45):\n",
    "    pred_data[\"lag_{}\".format(i)] = pred_data.num_casos_per_pop.shift(i)"
   ]
  },
  {
   "cell_type": "code",
   "execution_count": 75,
   "metadata": {
    "id": "3zhKpx0uLxV5"
   },
   "outputs": [],
   "source": [
    "test_data = pred_data[pred_data.index > test_split_date]\n",
    "train_data = pred_data[(pred_data.index > train_split_date) & (pred_data.index <= test_split_date)]"
   ]
  },
  {
   "cell_type": "code",
   "execution_count": 76,
   "metadata": {
    "id": "ZG39_VgdMIQ2"
   },
   "outputs": [
    {
     "data": {
      "text/html": [
       "<div>\n",
       "<style scoped>\n",
       "    .dataframe tbody tr th:only-of-type {\n",
       "        vertical-align: middle;\n",
       "    }\n",
       "\n",
       "    .dataframe tbody tr th {\n",
       "        vertical-align: top;\n",
       "    }\n",
       "\n",
       "    .dataframe thead th {\n",
       "        text-align: right;\n",
       "    }\n",
       "</style>\n",
       "<table border=\"1\" class=\"dataframe\">\n",
       "  <thead>\n",
       "    <tr style=\"text-align: right;\">\n",
       "      <th></th>\n",
       "      <th>sexo</th>\n",
       "      <th>grupo_edad</th>\n",
       "      <th>num_casos_per_pop</th>\n",
       "      <th>lag_28</th>\n",
       "      <th>lag_29</th>\n",
       "      <th>lag_30</th>\n",
       "      <th>lag_31</th>\n",
       "      <th>lag_32</th>\n",
       "      <th>lag_33</th>\n",
       "      <th>lag_34</th>\n",
       "      <th>lag_35</th>\n",
       "      <th>lag_36</th>\n",
       "      <th>lag_37</th>\n",
       "      <th>lag_38</th>\n",
       "      <th>lag_39</th>\n",
       "      <th>lag_40</th>\n",
       "      <th>lag_41</th>\n",
       "      <th>lag_42</th>\n",
       "      <th>lag_43</th>\n",
       "      <th>lag_44</th>\n",
       "    </tr>\n",
       "    <tr>\n",
       "      <th>fecha</th>\n",
       "      <th></th>\n",
       "      <th></th>\n",
       "      <th></th>\n",
       "      <th></th>\n",
       "      <th></th>\n",
       "      <th></th>\n",
       "      <th></th>\n",
       "      <th></th>\n",
       "      <th></th>\n",
       "      <th></th>\n",
       "      <th></th>\n",
       "      <th></th>\n",
       "      <th></th>\n",
       "      <th></th>\n",
       "      <th></th>\n",
       "      <th></th>\n",
       "      <th></th>\n",
       "      <th></th>\n",
       "      <th></th>\n",
       "      <th></th>\n",
       "    </tr>\n",
       "  </thead>\n",
       "  <tbody>\n",
       "    <tr>\n",
       "      <th>2021-06-09</th>\n",
       "      <td>2</td>\n",
       "      <td>5</td>\n",
       "      <td>0.002139</td>\n",
       "      <td>0.000000</td>\n",
       "      <td>0.000000</td>\n",
       "      <td>0.000000</td>\n",
       "      <td>0.0</td>\n",
       "      <td>0.0</td>\n",
       "      <td>0.0</td>\n",
       "      <td>0.0</td>\n",
       "      <td>0.0</td>\n",
       "      <td>0.021393</td>\n",
       "      <td>0.070595</td>\n",
       "      <td>0.074874</td>\n",
       "      <td>0.226761</td>\n",
       "      <td>0.496307</td>\n",
       "      <td>0.877095</td>\n",
       "      <td>0.819335</td>\n",
       "      <td>0.727347</td>\n",
       "      <td>0.682423</td>\n",
       "    </tr>\n",
       "    <tr>\n",
       "      <th>2021-06-09</th>\n",
       "      <td>2</td>\n",
       "      <td>6</td>\n",
       "      <td>0.000000</td>\n",
       "      <td>0.000000</td>\n",
       "      <td>0.000000</td>\n",
       "      <td>0.000000</td>\n",
       "      <td>0.0</td>\n",
       "      <td>0.0</td>\n",
       "      <td>0.0</td>\n",
       "      <td>0.0</td>\n",
       "      <td>0.0</td>\n",
       "      <td>0.000000</td>\n",
       "      <td>0.021393</td>\n",
       "      <td>0.070595</td>\n",
       "      <td>0.074874</td>\n",
       "      <td>0.226761</td>\n",
       "      <td>0.496307</td>\n",
       "      <td>0.877095</td>\n",
       "      <td>0.819335</td>\n",
       "      <td>0.727347</td>\n",
       "    </tr>\n",
       "    <tr>\n",
       "      <th>2021-06-09</th>\n",
       "      <td>2</td>\n",
       "      <td>7</td>\n",
       "      <td>0.000000</td>\n",
       "      <td>0.002139</td>\n",
       "      <td>0.000000</td>\n",
       "      <td>0.000000</td>\n",
       "      <td>0.0</td>\n",
       "      <td>0.0</td>\n",
       "      <td>0.0</td>\n",
       "      <td>0.0</td>\n",
       "      <td>0.0</td>\n",
       "      <td>0.000000</td>\n",
       "      <td>0.000000</td>\n",
       "      <td>0.021393</td>\n",
       "      <td>0.070595</td>\n",
       "      <td>0.074874</td>\n",
       "      <td>0.226761</td>\n",
       "      <td>0.496307</td>\n",
       "      <td>0.877095</td>\n",
       "      <td>0.819335</td>\n",
       "    </tr>\n",
       "    <tr>\n",
       "      <th>2021-06-09</th>\n",
       "      <td>2</td>\n",
       "      <td>8</td>\n",
       "      <td>0.000000</td>\n",
       "      <td>0.344420</td>\n",
       "      <td>0.002139</td>\n",
       "      <td>0.000000</td>\n",
       "      <td>0.0</td>\n",
       "      <td>0.0</td>\n",
       "      <td>0.0</td>\n",
       "      <td>0.0</td>\n",
       "      <td>0.0</td>\n",
       "      <td>0.000000</td>\n",
       "      <td>0.000000</td>\n",
       "      <td>0.000000</td>\n",
       "      <td>0.021393</td>\n",
       "      <td>0.070595</td>\n",
       "      <td>0.074874</td>\n",
       "      <td>0.226761</td>\n",
       "      <td>0.496307</td>\n",
       "      <td>0.877095</td>\n",
       "    </tr>\n",
       "    <tr>\n",
       "      <th>2021-06-09</th>\n",
       "      <td>2</td>\n",
       "      <td>9</td>\n",
       "      <td>0.000000</td>\n",
       "      <td>0.665309</td>\n",
       "      <td>0.344420</td>\n",
       "      <td>0.002139</td>\n",
       "      <td>0.0</td>\n",
       "      <td>0.0</td>\n",
       "      <td>0.0</td>\n",
       "      <td>0.0</td>\n",
       "      <td>0.0</td>\n",
       "      <td>0.000000</td>\n",
       "      <td>0.000000</td>\n",
       "      <td>0.000000</td>\n",
       "      <td>0.000000</td>\n",
       "      <td>0.021393</td>\n",
       "      <td>0.070595</td>\n",
       "      <td>0.074874</td>\n",
       "      <td>0.226761</td>\n",
       "      <td>0.496307</td>\n",
       "    </tr>\n",
       "  </tbody>\n",
       "</table>\n",
       "</div>"
      ],
      "text/plain": [
       "            sexo  grupo_edad  num_casos_per_pop    lag_28    lag_29    lag_30  \\\n",
       "fecha                                                                           \n",
       "2021-06-09     2           5           0.002139  0.000000  0.000000  0.000000   \n",
       "2021-06-09     2           6           0.000000  0.000000  0.000000  0.000000   \n",
       "2021-06-09     2           7           0.000000  0.002139  0.000000  0.000000   \n",
       "2021-06-09     2           8           0.000000  0.344420  0.002139  0.000000   \n",
       "2021-06-09     2           9           0.000000  0.665309  0.344420  0.002139   \n",
       "\n",
       "            lag_31  lag_32  lag_33  lag_34  lag_35    lag_36    lag_37  \\\n",
       "fecha                                                                    \n",
       "2021-06-09     0.0     0.0     0.0     0.0     0.0  0.021393  0.070595   \n",
       "2021-06-09     0.0     0.0     0.0     0.0     0.0  0.000000  0.021393   \n",
       "2021-06-09     0.0     0.0     0.0     0.0     0.0  0.000000  0.000000   \n",
       "2021-06-09     0.0     0.0     0.0     0.0     0.0  0.000000  0.000000   \n",
       "2021-06-09     0.0     0.0     0.0     0.0     0.0  0.000000  0.000000   \n",
       "\n",
       "              lag_38    lag_39    lag_40    lag_41    lag_42    lag_43  \\\n",
       "fecha                                                                    \n",
       "2021-06-09  0.074874  0.226761  0.496307  0.877095  0.819335  0.727347   \n",
       "2021-06-09  0.070595  0.074874  0.226761  0.496307  0.877095  0.819335   \n",
       "2021-06-09  0.021393  0.070595  0.074874  0.226761  0.496307  0.877095   \n",
       "2021-06-09  0.000000  0.021393  0.070595  0.074874  0.226761  0.496307   \n",
       "2021-06-09  0.000000  0.000000  0.021393  0.070595  0.074874  0.226761   \n",
       "\n",
       "              lag_44  \n",
       "fecha                 \n",
       "2021-06-09  0.682423  \n",
       "2021-06-09  0.727347  \n",
       "2021-06-09  0.819335  \n",
       "2021-06-09  0.877095  \n",
       "2021-06-09  0.496307  "
      ]
     },
     "execution_count": 76,
     "metadata": {},
     "output_type": "execute_result"
    }
   ],
   "source": [
    "train_data.tail()"
   ]
  },
  {
   "cell_type": "code",
   "execution_count": 77,
   "metadata": {
    "id": "M3litEZpMN2h"
   },
   "outputs": [
    {
     "data": {
      "text/html": [
       "<div>\n",
       "<style scoped>\n",
       "    .dataframe tbody tr th:only-of-type {\n",
       "        vertical-align: middle;\n",
       "    }\n",
       "\n",
       "    .dataframe tbody tr th {\n",
       "        vertical-align: top;\n",
       "    }\n",
       "\n",
       "    .dataframe thead th {\n",
       "        text-align: right;\n",
       "    }\n",
       "</style>\n",
       "<table border=\"1\" class=\"dataframe\">\n",
       "  <thead>\n",
       "    <tr style=\"text-align: right;\">\n",
       "      <th></th>\n",
       "      <th>sexo</th>\n",
       "      <th>grupo_edad</th>\n",
       "      <th>num_casos_per_pop</th>\n",
       "      <th>lag_28</th>\n",
       "      <th>lag_29</th>\n",
       "      <th>lag_30</th>\n",
       "      <th>lag_31</th>\n",
       "      <th>lag_32</th>\n",
       "      <th>lag_33</th>\n",
       "      <th>lag_34</th>\n",
       "      <th>lag_35</th>\n",
       "      <th>lag_36</th>\n",
       "      <th>lag_37</th>\n",
       "      <th>lag_38</th>\n",
       "      <th>lag_39</th>\n",
       "      <th>lag_40</th>\n",
       "      <th>lag_41</th>\n",
       "      <th>lag_42</th>\n",
       "      <th>lag_43</th>\n",
       "      <th>lag_44</th>\n",
       "    </tr>\n",
       "    <tr>\n",
       "      <th>fecha</th>\n",
       "      <th></th>\n",
       "      <th></th>\n",
       "      <th></th>\n",
       "      <th></th>\n",
       "      <th></th>\n",
       "      <th></th>\n",
       "      <th></th>\n",
       "      <th></th>\n",
       "      <th></th>\n",
       "      <th></th>\n",
       "      <th></th>\n",
       "      <th></th>\n",
       "      <th></th>\n",
       "      <th></th>\n",
       "      <th></th>\n",
       "      <th></th>\n",
       "      <th></th>\n",
       "      <th></th>\n",
       "      <th></th>\n",
       "      <th></th>\n",
       "    </tr>\n",
       "  </thead>\n",
       "  <tbody>\n",
       "    <tr>\n",
       "      <th>2021-06-10</th>\n",
       "      <td>0</td>\n",
       "      <td>0</td>\n",
       "      <td>0.303774</td>\n",
       "      <td>0.862120</td>\n",
       "      <td>0.665309</td>\n",
       "      <td>0.344420</td>\n",
       "      <td>0.002139</td>\n",
       "      <td>0.000000</td>\n",
       "      <td>0.000000</td>\n",
       "      <td>0.000000</td>\n",
       "      <td>0.000000</td>\n",
       "      <td>0.0</td>\n",
       "      <td>0.0</td>\n",
       "      <td>0.0</td>\n",
       "      <td>0.0</td>\n",
       "      <td>0.0</td>\n",
       "      <td>0.021393</td>\n",
       "      <td>0.070595</td>\n",
       "      <td>0.074874</td>\n",
       "      <td>0.226761</td>\n",
       "    </tr>\n",
       "    <tr>\n",
       "      <th>2021-06-10</th>\n",
       "      <td>0</td>\n",
       "      <td>1</td>\n",
       "      <td>0.624663</td>\n",
       "      <td>0.821474</td>\n",
       "      <td>0.862120</td>\n",
       "      <td>0.665309</td>\n",
       "      <td>0.344420</td>\n",
       "      <td>0.002139</td>\n",
       "      <td>0.000000</td>\n",
       "      <td>0.000000</td>\n",
       "      <td>0.000000</td>\n",
       "      <td>0.0</td>\n",
       "      <td>0.0</td>\n",
       "      <td>0.0</td>\n",
       "      <td>0.0</td>\n",
       "      <td>0.0</td>\n",
       "      <td>0.000000</td>\n",
       "      <td>0.021393</td>\n",
       "      <td>0.070595</td>\n",
       "      <td>0.074874</td>\n",
       "    </tr>\n",
       "    <tr>\n",
       "      <th>2021-06-10</th>\n",
       "      <td>0</td>\n",
       "      <td>2</td>\n",
       "      <td>0.928437</td>\n",
       "      <td>0.821474</td>\n",
       "      <td>0.821474</td>\n",
       "      <td>0.862120</td>\n",
       "      <td>0.665309</td>\n",
       "      <td>0.344420</td>\n",
       "      <td>0.002139</td>\n",
       "      <td>0.000000</td>\n",
       "      <td>0.000000</td>\n",
       "      <td>0.0</td>\n",
       "      <td>0.0</td>\n",
       "      <td>0.0</td>\n",
       "      <td>0.0</td>\n",
       "      <td>0.0</td>\n",
       "      <td>0.000000</td>\n",
       "      <td>0.000000</td>\n",
       "      <td>0.021393</td>\n",
       "      <td>0.070595</td>\n",
       "    </tr>\n",
       "    <tr>\n",
       "      <th>2021-06-10</th>\n",
       "      <td>0</td>\n",
       "      <td>3</td>\n",
       "      <td>0.772272</td>\n",
       "      <td>0.504864</td>\n",
       "      <td>0.821474</td>\n",
       "      <td>0.821474</td>\n",
       "      <td>0.862120</td>\n",
       "      <td>0.665309</td>\n",
       "      <td>0.344420</td>\n",
       "      <td>0.002139</td>\n",
       "      <td>0.000000</td>\n",
       "      <td>0.0</td>\n",
       "      <td>0.0</td>\n",
       "      <td>0.0</td>\n",
       "      <td>0.0</td>\n",
       "      <td>0.0</td>\n",
       "      <td>0.000000</td>\n",
       "      <td>0.000000</td>\n",
       "      <td>0.000000</td>\n",
       "      <td>0.021393</td>\n",
       "    </tr>\n",
       "    <tr>\n",
       "      <th>2021-06-10</th>\n",
       "      <td>0</td>\n",
       "      <td>4</td>\n",
       "      <td>0.883513</td>\n",
       "      <td>0.224622</td>\n",
       "      <td>0.504864</td>\n",
       "      <td>0.821474</td>\n",
       "      <td>0.821474</td>\n",
       "      <td>0.862120</td>\n",
       "      <td>0.665309</td>\n",
       "      <td>0.344420</td>\n",
       "      <td>0.002139</td>\n",
       "      <td>0.0</td>\n",
       "      <td>0.0</td>\n",
       "      <td>0.0</td>\n",
       "      <td>0.0</td>\n",
       "      <td>0.0</td>\n",
       "      <td>0.000000</td>\n",
       "      <td>0.000000</td>\n",
       "      <td>0.000000</td>\n",
       "      <td>0.000000</td>\n",
       "    </tr>\n",
       "  </tbody>\n",
       "</table>\n",
       "</div>"
      ],
      "text/plain": [
       "            sexo  grupo_edad  num_casos_per_pop    lag_28    lag_29    lag_30  \\\n",
       "fecha                                                                           \n",
       "2021-06-10     0           0           0.303774  0.862120  0.665309  0.344420   \n",
       "2021-06-10     0           1           0.624663  0.821474  0.862120  0.665309   \n",
       "2021-06-10     0           2           0.928437  0.821474  0.821474  0.862120   \n",
       "2021-06-10     0           3           0.772272  0.504864  0.821474  0.821474   \n",
       "2021-06-10     0           4           0.883513  0.224622  0.504864  0.821474   \n",
       "\n",
       "              lag_31    lag_32    lag_33    lag_34    lag_35  lag_36  lag_37  \\\n",
       "fecha                                                                          \n",
       "2021-06-10  0.002139  0.000000  0.000000  0.000000  0.000000     0.0     0.0   \n",
       "2021-06-10  0.344420  0.002139  0.000000  0.000000  0.000000     0.0     0.0   \n",
       "2021-06-10  0.665309  0.344420  0.002139  0.000000  0.000000     0.0     0.0   \n",
       "2021-06-10  0.862120  0.665309  0.344420  0.002139  0.000000     0.0     0.0   \n",
       "2021-06-10  0.821474  0.862120  0.665309  0.344420  0.002139     0.0     0.0   \n",
       "\n",
       "            lag_38  lag_39  lag_40    lag_41    lag_42    lag_43    lag_44  \n",
       "fecha                                                                       \n",
       "2021-06-10     0.0     0.0     0.0  0.021393  0.070595  0.074874  0.226761  \n",
       "2021-06-10     0.0     0.0     0.0  0.000000  0.021393  0.070595  0.074874  \n",
       "2021-06-10     0.0     0.0     0.0  0.000000  0.000000  0.021393  0.070595  \n",
       "2021-06-10     0.0     0.0     0.0  0.000000  0.000000  0.000000  0.021393  \n",
       "2021-06-10     0.0     0.0     0.0  0.000000  0.000000  0.000000  0.000000  "
      ]
     },
     "execution_count": 77,
     "metadata": {},
     "output_type": "execute_result"
    }
   ],
   "source": [
    "test_data.head()"
   ]
  },
  {
   "cell_type": "code",
   "execution_count": 78,
   "metadata": {
    "id": "do5xdtLkKDpN"
   },
   "outputs": [
    {
     "data": {
      "image/png": "[encoded data removed]",
      "text/plain": [
       "<Figure size 1080x504 with 1 Axes>"
      ]
     },
     "metadata": {
      "needs_background": "light"
     },
     "output_type": "display_data"
    },
    {
     "data": {
      "image/png": "[encoded data removed]",
      "text/plain": [
       "<Figure size 1080x504 with 1 Axes>"
      ]
     },
     "metadata": {
      "needs_background": "light"
     },
     "output_type": "display_data"
    }
   ],
   "source": [
    "y_train = train_data.dropna()[\"num_casos_per_pop\"]\n",
    "X_train = train_data.dropna().drop(['num_casos_per_pop'], axis=1)\n",
    "\n",
    "y_test = test_data.dropna()[\"num_casos_per_pop\"]\n",
    "X_test = test_data.dropna().drop([\"num_casos_per_pop\"], axis=1)\n",
    "\n",
    "X_train_scaled = pd.DataFrame(scaler.fit_transform(X_train), columns=X_train.columns)\n",
    "X_train_scaled.index = X_train.index\n",
    "X_test_scaled = pd.DataFrame(scaler.transform(X_test), columns=X_test.columns)\n",
    "X_test_scaled.index = X_test.index\n",
    "\n",
    "lr = LinearRegression()\n",
    "lr.fit(X_train_scaled, y_train)\n",
    "\n",
    "plotModelResults(lr, X_train=X_train_scaled, X_test=X_test_scaled, plot_intervals=True)\n",
    "plotCoefficients(lr)"
   ]
  },
  {
   "cell_type": "code",
   "execution_count": 79,
   "metadata": {
    "id": "hTRprKn3K4d_"
   },
   "outputs": [],
   "source": [
    "import statsmodels.api as sm\n",
    "\n",
    "sm.add_constant(X_train)\n",
    "mod = sm.OLS(y_train, X_train)\n",
    "res = mod.fit()"
   ]
  },
  {
   "cell_type": "code",
   "execution_count": 80,
   "metadata": {
    "id": "nRG_Rl_4M9Bx"
   },
   "outputs": [
    {
     "name": "stdout",
     "output_type": "stream",
     "text": [
      "                                 OLS Regression Results                                \n",
      "=======================================================================================\n",
      "Dep. Variable:      num_casos_per_pop   R-squared (uncentered):                   0.901\n",
      "Model:                            OLS   Adj. R-squared (uncentered):              0.899\n",
      "Method:                 Least Squares   F-statistic:                              628.9\n",
      "Date:                Fri, 16 Jul 2021   Prob (F-statistic):                        0.00\n",
      "Time:                        18:34:19   Log-Likelihood:                          338.80\n",
      "No. Observations:                1336   AIC:                                     -639.6\n",
      "Df Residuals:                    1317   BIC:                                     -540.8\n",
      "Df Model:                          19                                                  \n",
      "Covariance Type:            nonrobust                                                  \n",
      "==============================================================================\n",
      "                 coef    std err          t      P>|t|      [0.025      0.975]\n",
      "------------------------------------------------------------------------------\n",
      "sexo          -0.0064      0.012     -0.560      0.576      -0.029       0.016\n",
      "grupo_edad     0.0116      0.003      4.252      0.000       0.006       0.017\n",
      "lag_28        -0.0708      0.035     -2.040      0.042      -0.139      -0.003\n",
      "lag_29         0.0995      0.058      1.701      0.089      -0.015       0.214\n",
      "lag_30         0.8689      0.065     13.401      0.000       0.742       0.996\n",
      "lag_31         0.0634      0.066      0.966      0.334      -0.065       0.192\n",
      "lag_32        -0.0432      0.065     -0.665      0.506      -0.171       0.084\n",
      "lag_33        -0.0440      0.066     -0.664      0.507      -0.174       0.086\n",
      "lag_34         0.0006      0.067      0.009      0.993      -0.131       0.132\n",
      "lag_35        -0.0389      0.065     -0.598      0.550      -0.166       0.089\n",
      "lag_36         0.0582      0.066      0.886      0.376      -0.071       0.187\n",
      "lag_37        -0.0206      0.065     -0.316      0.752      -0.149       0.107\n",
      "lag_38         0.0159      0.065      0.243      0.808      -0.112       0.144\n",
      "lag_39        -0.0706      0.067     -1.058      0.290      -0.201       0.060\n",
      "lag_40         0.1165      0.068      1.719      0.086      -0.016       0.249\n",
      "lag_41        -0.0854      0.066     -1.295      0.195      -0.215       0.044\n",
      "lag_42         0.0494      0.064      0.776      0.438      -0.075       0.174\n",
      "lag_43        -0.0432      0.059     -0.736      0.462      -0.158       0.072\n",
      "lag_44        -0.0150      0.036     -0.421      0.674      -0.085       0.055\n",
      "==============================================================================\n",
      "Omnibus:                      200.685   Durbin-Watson:                   0.272\n",
      "Prob(Omnibus):                  0.000   Jarque-Bera (JB):             2017.192\n",
      "Skew:                           0.339   Prob(JB):                         0.00\n",
      "Kurtosis:                       8.981   Cond. No.                         134.\n",
      "==============================================================================\n",
      "\n",
      "Notes:\n",
      "[1] R² is computed without centering (uncentered) since the model does not contain a constant.\n",
      "[2] Standard Errors assume that the covariance matrix of the errors is correctly specified.\n"
     ]
    }
   ],
   "source": [
    "print(res.summary())"
   ]
  },
  {
   "cell_type": "code",
   "execution_count": 81,
   "metadata": {
    "scrolled": true
   },
   "outputs": [
    {
     "data": {
      "text/plain": [
       "0.6471521795943027"
      ]
     },
     "execution_count": 81,
     "metadata": {},
     "output_type": "execute_result"
    }
   ],
   "source": [
    "from sklearn.metrics import r2_score\n",
    "pred = res.predict(X_test)\n",
    "\n",
    "r2 = r2_score(y_test, pred)\n",
    "r2"
   ]
  }
 ],
 "metadata": {
  "colab": {
   "collapsed_sections": [],
   "name": "Copy of Datathon.ipynb",
   "provenance": []
  },
  "kernelspec": {
   "display_name": "Python 3",
   "language": "python",
   "name": "python3"
  },
  "language_info": {
   "codemirror_mode": {
    "name": "ipython",
    "version": 3
   },
   "file_extension": ".py",
   "mimetype": "text/x-python",
   "name": "python",
   "nbconvert_exporter": "python",
   "pygments_lexer": "ipython3",
   "version": "3.7.7"
  }
 },
 "nbformat": 4,
 "nbformat_minor": 1
}
